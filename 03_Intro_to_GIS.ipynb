{
  "nbformat": 4,
  "nbformat_minor": 0,
  "metadata": {
    "colab": {
      "name": "03_Intro_to_GIS.ipynb",
      "provenance": [],
      "collapsed_sections": []
    },
    "kernelspec": {
      "display_name": "Python 3",
      "language": "python",
      "name": "python3"
    },
    "language_info": {
      "codemirror_mode": {
        "name": "ipython",
        "version": 3
      },
      "file_extension": ".py",
      "mimetype": "text/x-python",
      "name": "python",
      "nbconvert_exporter": "python",
      "pygments_lexer": "ipython3",
      "version": "3.9.2"
    }
  },
  "cells": [
    {
      "cell_type": "markdown",
      "metadata": {
        "id": "EfKSXVSMZgh3"
      },
      "source": [
        "# Intro to GIS with Python\n",
        "## What is GIS?\n",
        "GIS stands for _geographic information system_. Colloquially, it's the process of presenting and analyzing data on maps. GIS allows us to visualize and characterize the nature of spatially distributed data, including weather, infrastructure, and populations. As you can imagine, this is key for disaster response scenarios for both diagnosing the situation, as well as planning and monitoring the response.\n",
        "\n",
        "There are dozens of different GIS software options, both free and commercial. In this course, we will focus on free, python-based tools and packages. The principles taught in this course should carry over to most common GIS implementations. \n",
        "\n",
        "In particular, we will be using:\n",
        "- GDAL\n",
        "- geopandas\n",
        "\n",
        "This content is based off of the [Automating GIS Processes course](https://automating-gis-processes.github.io/2018/) from the University of Helsinki"
      ]
    },
    {
      "cell_type": "code",
      "metadata": {
        "id": "U1VkoUkxZVeg"
      },
      "source": [
        "import geopandas as gpd\n",
        "import contextily as ctx # for basemaps\n",
        "from shapely.geometry import Point, LineString, Polygon\n",
        "from matplotlib import pyplot as plt"
      ],
      "execution_count": null,
      "outputs": []
    },
    {
      "cell_type": "markdown",
      "metadata": {
        "id": "I4FdxWjGoa3Q"
      },
      "source": [
        "## Reading in GIS data\n",
        "For this lesson we are using data in Shapefile format representing distributions of specific beautifully colored fish species called Damselfish and the country borders of Europe.\n",
        "\n",
        "We're going to use the `wget` terminal command to download a file from a url.\n",
        "We then use `unzip` to unzip the archive into a folder of the same name. The `-o` option is used to overwrite the folder if it already exists\n",
        "We then us `ls` to see the contents of the folder"
      ]
    },
    {
      "cell_type": "code",
      "metadata": {
        "id": "ul2tHaBOn7xt"
      },
      "source": [
        "!wget https://github.com/Automating-GIS-processes/FEC/raw/master/data/DAMSELFISH.zip -O fish_data.zip\n",
        "!unzip -o fish_data.zip -d fish_data\n",
        "!ls fish_data"
      ],
      "execution_count": null,
      "outputs": []
    },
    {
      "cell_type": "markdown",
      "metadata": {
        "id": "jTVbTuHmpQc2"
      },
      "source": [
        "Typically reading the data into Python is the first step of the analysis pipeline. In GIS, there exists various dataformats such as [Shapefile](https://en.wikipedia.org/wiki/Shapefile), [GeoJSON](https://en.wikipedia.org/wiki/GeoJSON), [KML](https://en.wikipedia.org/wiki/Keyhole_Markup_Language), and [GPKG](https://en.wikipedia.org/wiki/GeoPackage) that are probably the most common vector data formats. Geopandas is capable of reading data from all of these formats (plus many more). Reading spatial data can be done easily with geopandas using `gpd.read_file()` -function:"
      ]
    },
    {
      "cell_type": "code",
      "metadata": {
        "id": "SIt2VIrloies"
      },
      "source": [
        "# path to shapefile\n",
        "filepath = \"fish_data/DAMSELFISH_distributions.shp\"\n",
        "\n",
        "# Read file using gpd.read_file()\n",
        "data = gpd.read_file(filepath)"
      ],
      "execution_count": null,
      "outputs": []
    },
    {
      "cell_type": "code",
      "metadata": {
        "id": "uSY2yeJupiBZ"
      },
      "source": [
        "data.head() #look at top entries - looks like a pandas dataframe"
      ],
      "execution_count": null,
      "outputs": []
    },
    {
      "cell_type": "code",
      "metadata": {
        "id": "4Hza7l13Yb6u"
      },
      "source": [
        "data.columns"
      ],
      "execution_count": null,
      "outputs": []
    },
    {
      "cell_type": "code",
      "metadata": {
        "id": "nVgTgQ1fpjue"
      },
      "source": [
        "# Note the column 'geometry' is full of shapely Polygon objects\n",
        "type(data['geometry'].iloc[0])"
      ],
      "execution_count": null,
      "outputs": []
    },
    {
      "cell_type": "markdown",
      "metadata": {
        "id": "Wcm428HXYb6w"
      },
      "source": [
        "Note that the data are in (lon, lat) ordering --- this is because the convention is (x, y) for computers, but (lat, lon) for coordinates. This is a frequent cause of error."
      ]
    },
    {
      "cell_type": "code",
      "metadata": {
        "id": "ByAbLdNkYb6w"
      },
      "source": [
        "data['geometry']"
      ],
      "execution_count": null,
      "outputs": []
    },
    {
      "cell_type": "code",
      "metadata": {
        "id": "8N1mjrnqkrZY"
      },
      "source": [
        "# geopandas adds useful attributes to the geodataframe, such as the ability to get bounds\n",
        "# of all the geometry data\n",
        "data.bounds"
      ],
      "execution_count": null,
      "outputs": []
    },
    {
      "cell_type": "code",
      "metadata": {
        "id": "aoPpzP7BlBso"
      },
      "source": [
        "# similary, we can get attributes such as boundary\n",
        "data.boundary"
      ],
      "execution_count": null,
      "outputs": []
    },
    {
      "cell_type": "markdown",
      "metadata": {
        "id": "Wld9SYSRYb6x"
      },
      "source": [
        "## Coordinate reference systems\n",
        "\n",
        "There are many different coordinate reference systems (CRS), which refer to different ways of indicating where on the earth you are referring to when you give a coordinate. Different CRS use different models of the earth's surface, map projections, units, and origin points (where 0,0 is). The discussion of the specifics is beyond the scope of this course. \n",
        "\n",
        "For the purposes of this course, we will primarily use the two following:\n",
        "\n",
        "### WGS 84: https://epsg.io/4326\n",
        "```\n",
        "The CRS used by the GPS system\n",
        "units: degrees\n",
        "0,0 is the intersection of greenwich meridian and equator\n",
        "epsg code: 4326\n",
        "```\n",
        "\n",
        "### Web Mercator: https://epsg.io/3857\n",
        "```\n",
        "The CRS used by most web maps, such as Google maps, OSM, Bing, etc.\n",
        "Not accurate at high latitudes >85 degrees, <-85 degrees\n",
        "units: meters\n",
        "0,0 is intersection of greensich meridian and equator\n",
        "epsg code: 3857\n",
        "```\n"
      ]
    },
    {
      "cell_type": "code",
      "metadata": {
        "id": "UTexsk7ElMV6"
      },
      "source": [
        "# area will warn you if you're trying to do area calculations in geographic CRS\n",
        "data.area"
      ],
      "execution_count": null,
      "outputs": []
    },
    {
      "cell_type": "code",
      "metadata": {
        "id": "UQlniL3_Yb6y"
      },
      "source": [
        "data_in_3857 = data.to_crs('epsg:3857')\n",
        "data_in_3857.area"
      ],
      "execution_count": null,
      "outputs": []
    },
    {
      "cell_type": "code",
      "metadata": {
        "id": "Lu41lvu3lRJR"
      },
      "source": [
        "# we can check which species can be found between latitudes 10 and 20 degrees north\n",
        "data.intersects(Polygon([(-180,10),(180,10),(180,20),(-180,20)]))"
      ],
      "execution_count": null,
      "outputs": []
    },
    {
      "cell_type": "markdown",
      "metadata": {
        "id": "d5qkO9zEry4x"
      },
      "source": [
        "## Exercises\n",
        "Using the polygon objects in the `geometry` column of the data frame:\n",
        "- create a new column called `area` which represent the areas of each row in the shapefile\n",
        "- What are the max, min, median, and quartiles values of the areas?\n",
        "- What fraction of the areas are greater than 25 square degrees?\n",
        "- What species has the largest total area?"
      ]
    },
    {
      "cell_type": "code",
      "metadata": {
        "id": "y7Z5xGa_Yb6z"
      },
      "source": [
        ""
      ],
      "execution_count": null,
      "outputs": []
    },
    {
      "cell_type": "markdown",
      "metadata": {
        "id": "weV_oh8rmMfy"
      },
      "source": [
        "## Plotting\n",
        "Geopandas provides a useful `.plot()`  function which creates a matplotlib figure and returns an axes object.\n",
        "\n",
        "There's a ton of additional libraries that provide more plotting functionality, and we'll explore a few of them here. There's no \"correct\" set of libraries to use for GIS in python, and it's up to you to figure out which ones fit the best into your workflow.\n",
        "\n",
        "The `cmap` option to the `.plot()` function allows you to pass in a [matplotlib colormap name](https://matplotlib.org/gallery/color/colormap_reference.html), which are collections of colors used to visualize data"
      ]
    },
    {
      "cell_type": "code",
      "metadata": {
        "id": "R_x4EWFgp3fH"
      },
      "source": [
        "# we can use the built-in geopandas plot function to visualize\n",
        "ax = data.plot(figsize=(10,5), alpha=0.6, cmap='Set2')"
      ],
      "execution_count": null,
      "outputs": []
    },
    {
      "cell_type": "markdown",
      "metadata": {
        "id": "wE97qBNR29Em"
      },
      "source": [
        "currently the colors are assigned arbitrarily. However, we can also use colors to encode information. \n",
        "\n",
        "Let's first use colors to categorize by endangerment status. To do so, we pass the `column` argument to `plot()`. For reference, we also set `legend=True`"
      ]
    },
    {
      "cell_type": "code",
      "metadata": {
        "id": "m0ybkz_d23BY"
      },
      "source": [
        "ax = data.plot(figsize=(10,5), alpha=0.6, cmap='Set2', column='category', legend=True)"
      ],
      "execution_count": null,
      "outputs": []
    },
    {
      "cell_type": "markdown",
      "metadata": {
        "id": "BVQ8tF1q3d7L"
      },
      "source": [
        "Another common use of colors to encode data is to represent numerical data in an area with colors. This is known as a [choropleth](https://en.wikipedia.org/wiki/Choropleth_map).\n",
        "\n",
        "Let's use this to encode the areas of each region"
      ]
    },
    {
      "cell_type": "code",
      "metadata": {
        "id": "ptYUTftF3cHz"
      },
      "source": [
        "#then pass the area column as an argument\n",
        "ax = data.plot(figsize=(10,5), alpha=0.6, column='shape_Area', legend=True)"
      ],
      "execution_count": null,
      "outputs": []
    },
    {
      "cell_type": "markdown",
      "metadata": {
        "id": "fEbqROlx4tTH"
      },
      "source": [
        "The colorbar legend is too big relative to the figure. We'll have to do some manual adjustments. There are tools to create axes grids for colorbars available in:\n",
        "https://matplotlib.org/3.1.0/tutorials/toolkits/axes_grid.html"
      ]
    },
    {
      "cell_type": "code",
      "metadata": {
        "id": "_kpaq1NY4QQ7"
      },
      "source": [
        "from mpl_toolkits.axes_grid1 import make_axes_locatable\n",
        "fig, ax = plt.subplots(1, 1)\n",
        "divider = make_axes_locatable(ax) #makes it so you can append to the axes\n",
        "\n",
        "#put another axes to the right of it, at 5% of the total width with 0.1 points of padding in between\n",
        "cax = divider.append_axes(\"right\", size=\"5%\", pad=0.1) \n",
        "# note that you have to specify both ax and cax as arguments for it to work\n",
        "data.plot(figsize=(10,5), alpha=0.6, column='area', \n",
        "          legend=True, ax=ax, cax=cax)"
      ],
      "execution_count": null,
      "outputs": []
    },
    {
      "cell_type": "markdown",
      "metadata": {
        "id": "7nNv0NL2jXLf"
      },
      "source": [
        "The data by itself looks just like a bunch of blobs. Let's put it on a map for context\n",
        "\n",
        "[Contextily](https://github.com/geopandas/contextily) is a library for creating basemaps. It pulls data from a host of different basemap providers - see [documentation](https://contextily.readthedocs.io/en/latest/) for more details.\n"
      ]
    },
    {
      "cell_type": "code",
      "metadata": {
        "id": "mt9Avb0q0IuC"
      },
      "source": [
        "# the data is currently in WGS84 (epsg:4326)\n",
        "data.crs"
      ],
      "execution_count": null,
      "outputs": []
    },
    {
      "cell_type": "code",
      "metadata": {
        "id": "DCYVcUxTh3F-"
      },
      "source": [
        "ax = data.plot(figsize=(10,5), alpha=0.6, cmap='Set2', column='category')\n",
        "# now we add a basemap. ctx finds a basemap for a background from\n",
        "# an online repository.\n",
        "# It assumes the data is in web mercator (epsg:3857) unless you specify otherwise\n",
        "ctx.add_basemap(ax, crs=data.crs)"
      ],
      "execution_count": null,
      "outputs": []
    },
    {
      "cell_type": "code",
      "metadata": {
        "id": "lc6krZ4QYb61"
      },
      "source": [
        "# we can set bounds using matplotlib\n",
        "ax = data.plot(figsize=(10,5), alpha=0.6, cmap='Set2', column='category')\n",
        "ax.set_xlim([-180,180])\n",
        "ax.set_ylim([-85,85])\n",
        "ctx.add_basemap(ax, crs=data.crs)"
      ],
      "execution_count": null,
      "outputs": []
    },
    {
      "cell_type": "markdown",
      "metadata": {
        "id": "QyvB6AAbp3Gu"
      },
      "source": [
        "We can use different background styles:\n",
        "![tile styles](https://contextily.readthedocs.io/en/latest/_images/tiles.png).\n",
        "\n",
        "Note that some styles only contain labels or lines."
      ]
    },
    {
      "cell_type": "code",
      "metadata": {
        "id": "7HGDXxwgp2Fm",
        "tags": []
      },
      "source": [
        "# to look at all of the different providers, check:\n",
        "ctx.providers"
      ],
      "execution_count": null,
      "outputs": []
    },
    {
      "cell_type": "markdown",
      "metadata": {
        "id": "C1Dh_rT0Yb61"
      },
      "source": [
        "previews of the different basemap styles can be viewed at: http://leaflet-extras.github.io/leaflet-providers/preview/ "
      ]
    },
    {
      "cell_type": "code",
      "metadata": {
        "id": "pknCTknLucvf"
      },
      "source": [
        "ax = data.plot(figsize=(10,5), alpha=0.6, cmap='Set2', column='category')\n",
        "ax.set_xlim([-180,180])\n",
        "ax.set_ylim([-85,85])\n",
        "# to specify the type of basemap, specify the source argument\n",
        "# the syntax is ctx.providers.{provider name}.{provider style}\n",
        "ctx.add_basemap(ax, crs=data.crs, source=ctx.providers.Stamen.Watercolor)\n",
        "# you can add labels independently of the background\n",
        "ctx.add_basemap(ax, crs=data.crs, source=ctx.providers.CartoDB.DarkMatterOnlyLabels)"
      ],
      "execution_count": null,
      "outputs": []
    },
    {
      "cell_type": "code",
      "metadata": {
        "id": "Ilaceib1vFFh"
      },
      "source": [
        "# we can download background tiles as images for quicker loading (don't need to keep redownloading)\n",
        "# let's use the bounds of one of the fish locations as an example\n",
        "w,s,e,n = data.loc[25,'geometry'].bounds\n",
        "data.loc[10,'geometry'].bounds"
      ],
      "execution_count": null,
      "outputs": []
    },
    {
      "cell_type": "markdown",
      "metadata": {
        "id": "x2kZllDjv-iv"
      },
      "source": [
        "the function bounds2img takes coordinates and [zoom level](https://wiki.openstreetmap.org/wiki/Zoom_levels) and downloads the corresponding tiles of the map as images"
      ]
    },
    {
      "cell_type": "code",
      "metadata": {
        "id": "7_uaWWzFvuC1"
      },
      "source": [
        "img, ext = ctx.bounds2img(w, s, e, n, 6, ll=True) #ll means coordinates are in lat-lon\n",
        "fig = plt.figure()\n",
        "ax = fig.add_subplot(1,1,1)\n",
        "ax.imshow(img, extent=ext)\n",
        "# bounds2img returns things in epsg:3857, so we need to plot the data in the same crs\n",
        "data.to_crs(epsg=3857).plot(ax=ax, cmap='Set3', alpha=0.8)\n",
        "ax_bounds = data.to_crs(epsg=3857).loc[25,'geometry'].bounds\n",
        "ax.set(xlim=[ax_bounds[0],ax_bounds[2]],ylim=[ax_bounds[1],ax_bounds[3]])\n"
      ],
      "execution_count": null,
      "outputs": []
    },
    {
      "cell_type": "markdown",
      "metadata": {
        "id": "AxVlRjR8qoHm"
      },
      "source": [
        "## Writing to a shapefile\n",
        "\n",
        "First we'll make a directory for outputting data to. We use the `mkdir` command which makes an empty folder. The `-p` option will skip it if the directory already exists"
      ]
    },
    {
      "cell_type": "code",
      "metadata": {
        "id": "mTujtJbZqTB2"
      },
      "source": [
        "!mkdir output_data -p"
      ],
      "execution_count": null,
      "outputs": []
    },
    {
      "cell_type": "code",
      "metadata": {
        "id": "ElvvoSQHql4T"
      },
      "source": [
        "# let's write the first 50 rows of the shapefile to a new file\n",
        "outfp = \"output_data/DAMSELFISH_distributions_SELECTION.shp\"\n",
        "\n",
        "# Select first 50 rows\n",
        "selection = data[0:50]\n",
        "\n",
        "# Write those rows into a new Shapefile (the default output file format is Shapefile)\n",
        "selection.to_file(outfp)"
      ],
      "execution_count": null,
      "outputs": []
    },
    {
      "cell_type": "markdown",
      "metadata": {
        "id": "3n7QVWo9tAuV"
      },
      "source": [
        "## Converting shapes to GeoDataFrames\n",
        "You can use Shapely geometric objects to create a GeoDataFrame from scratch. "
      ]
    },
    {
      "cell_type": "code",
      "metadata": {
        "id": "r6xTzsiltNiR"
      },
      "source": [
        "# Create an empty geopandas GeoDataFrame\n",
        "newdata = gpd.GeoDataFrame()\n",
        "\n",
        "# add a geometry column (necessary for shapefile)\n",
        "newdata['geometry'] = None\n",
        "\n",
        "# Let's see what we have at the moment\n",
        "print(newdata)"
      ],
      "execution_count": null,
      "outputs": []
    },
    {
      "cell_type": "code",
      "metadata": {
        "id": "c9fD5asutOlQ"
      },
      "source": [
        "# Coordinates of the MIT main campus in Decimal Degrees\n",
        "coordinates = [(-71.092562, 42.357602), ( -71.080155, 42.361553), ( -71.089817, 42.362584), (-71.094688, 42.360198)]\n",
        "\n",
        "# Create a Shapely polygon from the coordinate-tuple list\n",
        "poly = Polygon(coordinates)\n",
        "\n",
        "# Let's see what we have\n",
        "poly"
      ],
      "execution_count": null,
      "outputs": []
    },
    {
      "cell_type": "markdown",
      "metadata": {
        "id": "_6QiacpteEaW"
      },
      "source": [
        "Quick checkpoint! Find the coordinates of the corners of a place that has significant meaning to you. Just like we did above, make a Shapely polygon from the coordinate-tuple list of the corners of your personal landmark.\n",
        "Display it! It can be as big as you want. If you want, share out with the class the place and why it is significant to you.  "
      ]
    },
    {
      "cell_type": "code",
      "metadata": {
        "id": "ZWa6VwO5gP56"
      },
      "source": [
        "# Coordinates of place of signficance in Decimal Degrees\n",
        "coordinates_personal =[]\n",
        "\n",
        "# Create a Shapely polygon from the coordinate-tuple list\n",
        "poly_personal =Polygon\n",
        "\n",
        "#Show the place and share out its significance if you want\n"
      ],
      "execution_count": null,
      "outputs": []
    },
    {
      "cell_type": "code",
      "metadata": {
        "id": "B3-61iLVt_N5"
      },
      "source": [
        "# Insert the polygon into 'geometry' -column at index 0\n",
        "newdata.loc[0, 'geometry'] = poly\n",
        "newdata"
      ],
      "execution_count": null,
      "outputs": []
    },
    {
      "cell_type": "code",
      "metadata": {
        "id": "D-5voz3YwU7x"
      },
      "source": [
        "newdata.loc[0, 'location'] = 'MIT main campus'\n",
        "newdata"
      ],
      "execution_count": null,
      "outputs": []
    },
    {
      "cell_type": "markdown",
      "metadata": {
        "id": "WnCD6scxweE9"
      },
      "source": [
        "Before exporting the data it is necessary to set the coordinate reference system (projection) for the GeoDataFrame. \n",
        "\n",
        "We will set the crs using a function from `fiona`, another GIS library integrated with geopandas. "
      ]
    },
    {
      "cell_type": "code",
      "metadata": {
        "id": "tflAvQZ8w-Cr"
      },
      "source": [
        "# Set the GeoDataFrame's coordinate system to WGS84 (i.e. epsg code 4326)\n",
        "newdata = newdata.set_crs('epsg:4326')\n",
        "\n",
        "# Let's see how the crs definition looks like\n",
        "newdata.crs"
      ],
      "execution_count": null,
      "outputs": []
    },
    {
      "cell_type": "code",
      "metadata": {
        "id": "el0ujZVAxhp6"
      },
      "source": [
        "outfp = \"output_data/MIT_campus.shp\"\n",
        "\n",
        "# Write the data into that Shapefile\n",
        "newdata.to_file(outfp)"
      ],
      "execution_count": null,
      "outputs": []
    },
    {
      "cell_type": "code",
      "metadata": {
        "id": "6K9ob7oAyeIo"
      },
      "source": [
        "# Let's plot it\n",
        "ax = newdata.to_crs(epsg=3857).plot(figsize=(10,5),alpha = 0.5, color='#FF55FF')\n",
        "ctx.add_basemap(ax)\n",
        "ax.set_axis_off() # remove the x-y axes"
      ],
      "execution_count": null,
      "outputs": []
    },
    {
      "cell_type": "markdown",
      "metadata": {
        "id": "MCNXf-5K2DDx"
      },
      "source": [
        "# Exercise\n",
        "Find an interesting GIS dataset and:\n",
        "- visualize some raw data\n",
        "- ask an interesting analysis question about it:\n",
        "  - intersections, sizes, quantities\n",
        "  - relationships\n",
        "  - e.g. which latitudes contain the most endangered species? what countries have the most ports per km of coastline?\n",
        "- Visualize some of your analysis\n",
        "\n",
        "As per usual, we'll ask a few volunteers to present their results.\n",
        "\n",
        "Here are some resources to look for GIS datasets:\n",
        "- Cambridge, MA GIS data: http://cambridgegis.github.io/gisdata.html\n",
        "- Free GIS data: https://freegisdata.rtwilson.com/\n",
        "- Data.gov: https://www.data.gov/"
      ]
    },
    {
      "cell_type": "code",
      "metadata": {
        "id": "RhKrcnw27-p8"
      },
      "source": [
        ""
      ],
      "execution_count": null,
      "outputs": []
    },
    {
      "cell_type": "markdown",
      "metadata": {
        "id": "gfJNj0A9Kd2C"
      },
      "source": [
        "An important part responsibility of GIS engineers during the pandemic is to visualize spread and case intensity during the pandemic. Using datasets from the following sources:\n",
        "\n",
        "\n",
        "*   Visualize raw data collected from sources around the world about the state of the pandemic\n",
        "*   Explore connections between various factors and come up with a hypothesis for your research. Some ideas could be connecting COVID data in different counties to socioeconomy, age, or building architecture data. Remember, mapping data speaks louder than graphs or datasets.\n",
        "*   Present your findings to the rest of the class and come up with a possible solution to the problem or connection that you explored\n",
        "\n",
        "COVID-19 Datasets:\n",
        "* COVID-19 Dataset (Kaggle): www.kaggle.com/imdevskp/corona-virus-report\n",
        "* New York Times Dataset: https://github.com/nytimes/covid-19-data\n",
        "* JHU Dataset: https://github.com/CSSEGISandData/COVID-19/tree/master/csse_covid_19_data\n",
        "*  Feel free to explore more area specific datasets or datasets which outline other conditions. These are just suggestions.\n",
        "\n",
        "To make your research connections, be sure to explore population and demographic datasets of different counties around the country. Be creative with your research!"
      ]
    },
    {
      "cell_type": "code",
      "metadata": {
        "id": "2HCkn3e3Koxq"
      },
      "source": [
        ""
      ],
      "execution_count": null,
      "outputs": []
    },
    {
      "cell_type": "markdown",
      "metadata": {
        "id": "v1UdgmMbKpGz"
      },
      "source": [
        "Map a shape of your hometown onto the map. Similar to how we mapped the coordinates of the MIT campus on a map, map the coordinates of your hometown onto a map. It doesn't have to exact, but just take a couple rough coordinates and visualize your place on the map. The TAs will try to map these shapes onto a full map so that we can get an idea of where everyone is from and visualize how geographically diverse our class is."
      ]
    },
    {
      "cell_type": "code",
      "metadata": {
        "id": "lhXWI3j7KsmK"
      },
      "source": [
        ""
      ],
      "execution_count": null,
      "outputs": []
    }
  ]
}